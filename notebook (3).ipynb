{
 "cells": [
  {
   "cell_type": "code",
   "execution_count": 38,
   "id": "7c6c3c36-5c8b-4cce-8681-95292b8f0861",
   "metadata": {
    "executionCancelledAt": null,
    "executionTime": 289,
    "lastExecutedAt": 1755790610996,
    "lastExecutedByKernel": "628573ce-497a-4e96-a419-dc1100c0f638",
    "lastScheduledRunId": null,
    "lastSuccessfullyExecutedCode": "# Re-run this cell\n# Import required libraries\nimport pandas as pd\nimport numpy as np\nimport matplotlib.pyplot as plt\nimport seaborn as sns\ncrimes = pd.read_csv(\"crimes.csv\", dtype={\"TIME OCC\": str})\ncrimes.head()",
    "outputsMetadata": {
     "0": {
      "height": 264,
      "tableState": {
       "quickFilterText": ""
      },
      "type": "dataFrame"
     }
    }
   },
   "outputs": [
    {
     "data": {
      "application/com.datacamp.data-table.v2+json": {
       "table": {
        "data": {
         "AREA NAME": [
          "Southwest",
          "Olympic",
          "Hollywood",
          "77th Street",
          "Rampart"
         ],
         "Crm Cd Desc": [
          "THEFT OF IDENTITY",
          "THEFT OF IDENTITY",
          "THEFT OF IDENTITY",
          "THEFT OF IDENTITY",
          "THEFT OF IDENTITY"
         ],
         "DATE OCC": [
          "2020-05-12",
          "2020-06-04",
          "2020-08-17",
          "2020-01-27",
          "2020-07-14"
         ],
         "DR_NO": [
          220314085,
          222013040,
          220614831,
          231207725,
          220213256
         ],
         "Date Rptd": [
          "2022-07-22",
          "2022-08-06",
          "2022-08-18",
          "2023-02-27",
          "2022-07-14"
         ],
         "LOCATION": [
          "2500 S  SYCAMORE                     AV",
          "3300    SAN MARINO                   ST",
          "1900    TRANSIENT",
          "6200    4TH                          AV",
          "1200 W  7TH                          ST"
         ],
         "Status Desc": [
          "Invest Cont",
          "Invest Cont",
          "Invest Cont",
          "Invest Cont",
          "Invest Cont"
         ],
         "TIME OCC": [
          "1110",
          "1620",
          "1200",
          "0635",
          "0900"
         ],
         "Vict Age": [
          27,
          60,
          28,
          37,
          79
         ],
         "Vict Descent": [
          "B",
          "H",
          "H",
          "H",
          "B"
         ],
         "Vict Sex": [
          "F",
          "M",
          "M",
          "M",
          "M"
         ],
         "Weapon Desc": [
          null,
          null,
          null,
          null,
          null
         ],
         "index": [
          0,
          1,
          2,
          3,
          4
         ]
        },
        "schema": {
         "fields": [
          {
           "name": "index",
           "type": "integer"
          },
          {
           "name": "DR_NO",
           "type": "integer"
          },
          {
           "name": "Date Rptd",
           "type": "string"
          },
          {
           "name": "DATE OCC",
           "type": "string"
          },
          {
           "name": "TIME OCC",
           "type": "string"
          },
          {
           "name": "AREA NAME",
           "type": "string"
          },
          {
           "name": "Crm Cd Desc",
           "type": "string"
          },
          {
           "name": "Vict Age",
           "type": "integer"
          },
          {
           "name": "Vict Sex",
           "type": "string"
          },
          {
           "name": "Vict Descent",
           "type": "string"
          },
          {
           "name": "Weapon Desc",
           "type": "string"
          },
          {
           "name": "Status Desc",
           "type": "string"
          },
          {
           "name": "LOCATION",
           "type": "string"
          }
         ],
         "pandas_version": "1.4.0",
         "primaryKey": [
          "index"
         ]
        }
       },
       "total_rows": 5,
       "truncation_type": null
      },
      "text/html": [
       "<div>\n",
       "<style scoped>\n",
       "    .dataframe tbody tr th:only-of-type {\n",
       "        vertical-align: middle;\n",
       "    }\n",
       "\n",
       "    .dataframe tbody tr th {\n",
       "        vertical-align: top;\n",
       "    }\n",
       "\n",
       "    .dataframe thead th {\n",
       "        text-align: right;\n",
       "    }\n",
       "</style>\n",
       "<table border=\"1\" class=\"dataframe\">\n",
       "  <thead>\n",
       "    <tr style=\"text-align: right;\">\n",
       "      <th></th>\n",
       "      <th>DR_NO</th>\n",
       "      <th>Date Rptd</th>\n",
       "      <th>DATE OCC</th>\n",
       "      <th>TIME OCC</th>\n",
       "      <th>AREA NAME</th>\n",
       "      <th>Crm Cd Desc</th>\n",
       "      <th>Vict Age</th>\n",
       "      <th>Vict Sex</th>\n",
       "      <th>Vict Descent</th>\n",
       "      <th>Weapon Desc</th>\n",
       "      <th>Status Desc</th>\n",
       "      <th>LOCATION</th>\n",
       "    </tr>\n",
       "  </thead>\n",
       "  <tbody>\n",
       "    <tr>\n",
       "      <th>0</th>\n",
       "      <td>220314085</td>\n",
       "      <td>2022-07-22</td>\n",
       "      <td>2020-05-12</td>\n",
       "      <td>1110</td>\n",
       "      <td>Southwest</td>\n",
       "      <td>THEFT OF IDENTITY</td>\n",
       "      <td>27</td>\n",
       "      <td>F</td>\n",
       "      <td>B</td>\n",
       "      <td>NaN</td>\n",
       "      <td>Invest Cont</td>\n",
       "      <td>2500 S  SYCAMORE                     AV</td>\n",
       "    </tr>\n",
       "    <tr>\n",
       "      <th>1</th>\n",
       "      <td>222013040</td>\n",
       "      <td>2022-08-06</td>\n",
       "      <td>2020-06-04</td>\n",
       "      <td>1620</td>\n",
       "      <td>Olympic</td>\n",
       "      <td>THEFT OF IDENTITY</td>\n",
       "      <td>60</td>\n",
       "      <td>M</td>\n",
       "      <td>H</td>\n",
       "      <td>NaN</td>\n",
       "      <td>Invest Cont</td>\n",
       "      <td>3300    SAN MARINO                   ST</td>\n",
       "    </tr>\n",
       "    <tr>\n",
       "      <th>2</th>\n",
       "      <td>220614831</td>\n",
       "      <td>2022-08-18</td>\n",
       "      <td>2020-08-17</td>\n",
       "      <td>1200</td>\n",
       "      <td>Hollywood</td>\n",
       "      <td>THEFT OF IDENTITY</td>\n",
       "      <td>28</td>\n",
       "      <td>M</td>\n",
       "      <td>H</td>\n",
       "      <td>NaN</td>\n",
       "      <td>Invest Cont</td>\n",
       "      <td>1900    TRANSIENT</td>\n",
       "    </tr>\n",
       "    <tr>\n",
       "      <th>3</th>\n",
       "      <td>231207725</td>\n",
       "      <td>2023-02-27</td>\n",
       "      <td>2020-01-27</td>\n",
       "      <td>0635</td>\n",
       "      <td>77th Street</td>\n",
       "      <td>THEFT OF IDENTITY</td>\n",
       "      <td>37</td>\n",
       "      <td>M</td>\n",
       "      <td>H</td>\n",
       "      <td>NaN</td>\n",
       "      <td>Invest Cont</td>\n",
       "      <td>6200    4TH                          AV</td>\n",
       "    </tr>\n",
       "    <tr>\n",
       "      <th>4</th>\n",
       "      <td>220213256</td>\n",
       "      <td>2022-07-14</td>\n",
       "      <td>2020-07-14</td>\n",
       "      <td>0900</td>\n",
       "      <td>Rampart</td>\n",
       "      <td>THEFT OF IDENTITY</td>\n",
       "      <td>79</td>\n",
       "      <td>M</td>\n",
       "      <td>B</td>\n",
       "      <td>NaN</td>\n",
       "      <td>Invest Cont</td>\n",
       "      <td>1200 W  7TH                          ST</td>\n",
       "    </tr>\n",
       "  </tbody>\n",
       "</table>\n",
       "</div>"
      ],
      "text/plain": [
       "       DR_NO   Date Rptd  ...  Status Desc                                 LOCATION\n",
       "0  220314085  2022-07-22  ...  Invest Cont  2500 S  SYCAMORE                     AV\n",
       "1  222013040  2022-08-06  ...  Invest Cont  3300    SAN MARINO                   ST\n",
       "2  220614831  2022-08-18  ...  Invest Cont                        1900    TRANSIENT\n",
       "3  231207725  2023-02-27  ...  Invest Cont  6200    4TH                          AV\n",
       "4  220213256  2022-07-14  ...  Invest Cont  1200 W  7TH                          ST\n",
       "\n",
       "[5 rows x 12 columns]"
      ]
     },
     "execution_count": 38,
     "metadata": {
      "application/com.datacamp.data-table.v2+json": {
       "status": "success"
      }
     },
     "output_type": "execute_result"
    }
   ],
   "source": [
    "# Re-run this cell\n",
    "# Import required libraries\n",
    "import pandas as pd\n",
    "import numpy as np\n",
    "import matplotlib.pyplot as plt\n",
    "import seaborn as sns\n",
    "crimes = pd.read_csv(\"crimes.csv\", dtype={\"TIME OCC\": str})\n",
    "crimes.head()"
   ]
  },
  {
   "cell_type": "code",
   "execution_count": 39,
   "id": "53eada96-447c-46c3-9848-f4ca3de53d06",
   "metadata": {
    "executionCancelledAt": null,
    "executionTime": 562,
    "lastExecutedAt": 1755790611558,
    "lastExecutedByKernel": "628573ce-497a-4e96-a419-dc1100c0f638",
    "lastScheduledRunId": null,
    "lastSuccessfullyExecutedCode": "# Which hour has the highest frequency of crimes? Store as an integer variable called peak_crime_hour.\n\n# create a column that has the hours of time occurence for easy counting\ncrimes[\"TIME OCC HR\"] = crimes[\"TIME OCC\"].str[:2]\n# convert them to integer since it's a string\ncrimes[\"TIME OCC HR\"] = crimes[\"TIME OCC HR\"].astype(int)\n\n# count them based on hour\nsns.countplot(x=\"TIME OCC HR\", data=crimes)\nplt.show()\n\n# Get the hour with most crime occurence.\npeak_crime_hour = crimes[\"TIME OCC HR\"].value_counts().index[0]\nprint(f\"The hour that has the highest frequency of crimes is {peak_crime_hour}\")",
    "outputsMetadata": {
     "0": {
      "height": 550,
      "tableState": {
       "customFilter": {
        "const": {
         "type": "boolean",
         "valid": true,
         "value": true
        },
        "id": "2620c14c-f4cb-4ce8-a8e5-4dcbbd6483ce",
        "nodeType": "const"
       }
      },
      "type": "dataFrame"
     },
     "1": {
      "height": 38,
      "type": "stream"
     }
    }
   },
   "outputs": [
    {
     "data": {
      "image/png": "[encoded data removed]",
      "text/plain": [
       "<Figure size 640x480 with 1 Axes>"
      ]
     },
     "metadata": {
      "image/png": {
       "height": 432,
       "width": 584
      }
     },
     "output_type": "display_data"
    },
    {
     "name": "stdout",
     "output_type": "stream",
     "text": [
      "The hour that has the highest frequency of crimes is 12\n"
     ]
    }
   ],
   "source": [
    "# Which hour has the highest frequency of crimes? Store as an integer variable called peak_crime_hour.\n",
    "\n",
    "# create a column that has the hours of time occurence for easy counting\n",
    "crimes[\"TIME OCC HR\"] = crimes[\"TIME OCC\"].str[:2]\n",
    "# convert them to integer since it's a string\n",
    "crimes[\"TIME OCC HR\"] = crimes[\"TIME OCC HR\"].astype(int)\n",
    "\n",
    "# count them based on hour\n",
    "sns.countplot(x=\"TIME OCC HR\", data=crimes)\n",
    "plt.show()\n",
    "\n",
    "# Get the hour with most crime occurence.\n",
    "peak_crime_hour = crimes[\"TIME OCC HR\"].value_counts().index[0]\n",
    "print(f\"The hour that has the highest frequency of crimes is {peak_crime_hour}\")"
   ]
  },
  {
   "cell_type": "code",
   "execution_count": 40,
   "id": "4b234c55-3ba7-4d34-a6da-b1fcb009cec9",
   "metadata": {
    "executionCancelledAt": null,
    "executionTime": 247,
    "lastExecutedAt": 1755790611805,
    "lastExecutedByKernel": "628573ce-497a-4e96-a419-dc1100c0f638",
    "lastScheduledRunId": null,
    "lastSuccessfullyExecutedCode": "# Which area has the largest frequency of night crimes (crimes committed between 10pm and 3:59am)? Save as a string variable called peak_night_crime_location.\n\n# filter the dataset to crimes around 10 pm and 3:59 am in 24 hour format it's between 22 - 04.\ncrimes_at_night = crimes[(crimes['TIME OCC HR'] >= 22) | (crimes['TIME OCC HR'] <= 4)]\n\ncount_order = crimes_at_night[\"AREA NAME\"].value_counts().head(5).index\n# count it by area\nsns.countplot(x=\"AREA NAME\", data=crimes_at_night, order=count_order)\nplt.show()\n\npeak_night_crime_location = count_order[0]\nprint(f\"The area that has the largest frequency of night crimes is {peak_night_crime_location}.\")",
    "outputsMetadata": {
     "0": {
      "height": 143,
      "type": "stream"
     },
     "1": {
      "height": 38,
      "type": "stream"
     }
    }
   },
   "outputs": [
    {
     "data": {
      "image/png": "[encoded data removed]",
      "text/plain": [
       "<Figure size 640x480 with 1 Axes>"
      ]
     },
     "metadata": {
      "image/png": {
       "height": 432,
       "width": 579
      }
     },
     "output_type": "display_data"
    },
    {
     "name": "stdout",
     "output_type": "stream",
     "text": [
      "The area that has the largest frequency of night crimes is Central.\n"
     ]
    }
   ],
   "source": [
    "# Which area has the largest frequency of night crimes (crimes committed between 10pm and 3:59am)? Save as a string variable called peak_night_crime_location.\n",
    "\n",
    "# filter the dataset to crimes around 10 pm and 3:59 am in 24 hour format it's between 22 - 04.\n",
    "crimes_at_night = crimes[(crimes['TIME OCC HR'] >= 22) | (crimes['TIME OCC HR'] <= 4)]\n",
    "\n",
    "count_order = crimes_at_night[\"AREA NAME\"].value_counts().head(5).index\n",
    "# count it by area\n",
    "sns.countplot(x=\"AREA NAME\", data=crimes_at_night, order=count_order)\n",
    "plt.show()\n",
    "\n",
    "peak_night_crime_location = count_order[0]\n",
    "print(f\"The area that has the largest frequency of night crimes is {peak_night_crime_location}.\")"
   ]
  },
  {
   "cell_type": "code",
   "execution_count": 41,
   "id": "4be3401d-a27b-4794-9a91-fc33525d6f42",
   "metadata": {
    "executionCancelledAt": null,
    "executionTime": null,
    "lastExecutedAt": null,
    "lastExecutedByKernel": null,
    "lastScheduledRunId": null,
    "lastSuccessfullyExecutedCode": null,
    "outputsMetadata": {
     "0": {
      "height": 303,
      "tableState": {
       "customFilter": {
        "const": {
         "type": "boolean",
         "valid": true,
         "value": true
        },
        "id": "2620c14c-f4cb-4ce8-a8e5-4dcbbd6483ce",
        "nodeType": "const"
       }
      },
      "type": "dataFrame"
     }
    }
   },
   "outputs": [
    {
     "data": {
      "application/com.datacamp.data-table.v2+json": {
       "table": {
        "data": {
         "Victims Age Group": [
          47470,
          42157,
          28353,
          28291,
          20169,
          14747,
          4528
         ],
         "index": [
          "26-34",
          "35-44",
          "45-54",
          "18-25",
          "55-64",
          "65+",
          "0-17"
         ]
        },
        "schema": {
         "fields": [
          {
           "name": "index",
           "type": "string"
          },
          {
           "name": "Victims Age Group",
           "type": "integer"
          }
         ],
         "pandas_version": "1.4.0",
         "primaryKey": [
          "index"
         ]
        }
       },
       "total_rows": 7,
       "truncation_type": null
      },
      "text/plain": [
       "26-34    47470\n",
       "35-44    42157\n",
       "45-54    28353\n",
       "18-25    28291\n",
       "55-64    20169\n",
       "65+      14747\n",
       "0-17      4528\n",
       "Name: Victims Age Group, dtype: int64"
      ]
     },
     "execution_count": 41,
     "metadata": {
      "application/com.datacamp.data-table.v2+json": {
       "status": "success"
      }
     },
     "output_type": "execute_result"
    }
   ],
   "source": [
    "# Identify the number of crimes committed against victims of different age groups. Save as a pandas Series called victim_ages, with age group labels \"0-17\", \"18-25\", \"26-34\", \"35-44\", \"45-54\", \"55-64\", and \"65+\" as the index and the frequency of crimes as the values.\n",
    "\n",
    "# Categorize the victim age for easy counting\n",
    "age_group_conditions = [\n",
    "    (crimes[\"Vict Age\"] >= 65),\n",
    "    (crimes[\"Vict Age\"] >= 55),\n",
    "    (crimes[\"Vict Age\"] >= 45),\n",
    "    (crimes[\"Vict Age\"] >= 35),\n",
    "    (crimes[\"Vict Age\"] >= 26),\n",
    "    (crimes[\"Vict Age\"] >= 18),\n",
    "    (crimes[\"Vict Age\"] >= 0),\n",
    "]\n",
    "\n",
    "choices = [\n",
    "    \"65+\",\n",
    "    \"55-64\",\n",
    "    \"45-54\",\n",
    "    \"35-44\",\n",
    "    \"26-34\",\n",
    "    \"18-25\",\n",
    "    \"0-17\"\n",
    "]\n",
    "\n",
    "# Used to place the row into specific category or choices\n",
    "crimes[\"Victims Age Group\"] = np.select(age_group_conditions, choices, default=\"None\")\n",
    "\n",
    "# Count the crime by age group\n",
    "victim_ages = crimes[\"Victims Age Group\"].value_counts()\n",
    "victim_ages"
   ]
  }
 ],
 "metadata": {
  "colab": {
   "name": "Welcome to DataCamp Workspaces.ipynb",
   "provenance": []
  },
  "kernelspec": {
   "display_name": "Python 3 (ipykernel)",
   "language": "python",
   "name": "python3"
  },
  "language_info": {
   "codemirror_mode": {
    "name": "ipython",
    "version": 3
   },
   "file_extension": ".py",
   "mimetype": "text/x-python",
   "name": "python",
   "nbconvert_exporter": "python",
   "pygments_lexer": "ipython3",
   "version": "3.8.10"
  }
 },
 "nbformat": 4,
 "nbformat_minor": 5
}
